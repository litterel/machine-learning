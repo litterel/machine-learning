{
 "cells": [
  {
   "cell_type": "code",
   "execution_count": 5,
   "metadata": {},
   "outputs": [],
   "source": [
    "import numpy as np\n",
    "import matplotlib.pyplot as plt\n",
    "import re\n",
    "#from nltk.corpus import stopwords"
   ]
  },
  {
   "cell_type": "code",
   "execution_count": 6,
   "metadata": {},
   "outputs": [],
   "source": [
    "%matplotlib inline"
   ]
  },
  {
   "cell_type": "code",
   "execution_count": 7,
   "metadata": {},
   "outputs": [],
   "source": [
    "def read_data(file_name = './smsspamcollection/SMSSpamCollection.txt'):\n",
    "    X = []\n",
    "    y = []\n",
    "    f = open(file_name)\n",
    "    data = f.readlines()\n",
    "    for line in data:\n",
    "        line = line.strip().split('\\t')\n",
    "        y.append(line[0])\n",
    "        X.append(line[1])\n",
    "    return np.array(X),np.array(y)\n",
    "\n",
    "def text_parser(X):\n",
    "    res =[]\n",
    "    for item in X:\n",
    "        list0tokens = re.split(r' \\W*',item)\n",
    "        res.append(np.array([tok.lower() for tok in list0tokens if len(tok)>2]))\n",
    "    return np.array(res)\n",
    "\n",
    "\n",
    "def load_word_set():\n",
    "    train_data= [\n",
    "        ['my', 'dog', 'has', 'flea', 'problems', 'help', 'please'], #[0,0,1,1,1......]\n",
    "                   ['maybe', 'not', 'take', 'him', 'to', 'dog', 'park', 'stupid'],\n",
    "                   ['my', 'dalmation', 'is', 'so', 'cute', 'I', 'love', 'him'],\n",
    "                   ['stop', 'posting', 'stupid', 'worthless', 'garbage'],\n",
    "                   ['mr', 'licks', 'ate', 'my', 'steak', 'how', 'to', 'stop', 'him'],\n",
    "                   ['quit', 'buying', 'worthless', 'dog', 'food', 'stupid']\n",
    "    ]\n",
    "    train_y = [0, 1, 0, 1, 0, 1]\n",
    "    return np.array(train_data),np.array(train_y)\n",
    "\n",
    "def creat_vocab_list(train_X):\n",
    "    vocab_list = set()\n",
    "    for item in train_X:\n",
    "        vocab_list = vocab_list.union(set(item))\n",
    "    return list(vocab_list)\n",
    "\n",
    "def _words2vec(vocab_list,x):\n",
    "    input_set = set(x)\n",
    "    return_vec = np.zeros(len(vocab_list))\n",
    "    for i in range(len(vocab_list)):\n",
    "        if vocab_list[i] in input_set:\n",
    "            return_vec[i] = 1    \n",
    "    return return_vec\n",
    "\n",
    "def words2vec(vocab_list,X):\n",
    "    return_mat = []\n",
    "    for item in X:\n",
    "        return_mat.append(_words2vec(vocab_list,item))\n",
    "    return np.array(return_mat)\n",
    "\n",
    "\n",
    "def fit(vocab_list,X,y):\n",
    "    target_list = np.unique(y)\n",
    "    p_word_mat = []\n",
    "    p_c = []\n",
    "    for item in target_list:\n",
    "        inx = y==item\n",
    "        target_X = X[inx]\n",
    "        target_y = y[inx]\n",
    "        p_c.append(len(target_y)/len(y))\n",
    "        p_word_mat.append((np.sum(target_X,axis=0)+1)/(len(target_X)+1)) #避免分子为零\n",
    "    return np.array(p_c),np.array(p_word_mat)\n",
    "\n",
    "def _predict(vocab_list,p_c,p_word_mat,x):\n",
    "    x_vec = _words2vec(vocab_list,x)\n",
    "    res = np.log(p_c)+np.sum(np.log(p_word_mat)*x_vec,axis=1)\n",
    "    return np.argmax(res)"
   ]
  },
  {
   "cell_type": "code",
   "execution_count": 162,
   "metadata": {},
   "outputs": [],
   "source": [
    "word_X, word_y = load_word_set()\n",
    "\n",
    "vocab_list = creat_vocab_list(X)\n",
    "\n",
    "train_X = words2vec(vocab_list,X)\n",
    "\n",
    "train_y = y"
   ]
  },
  {
   "cell_type": "code",
   "execution_count": 177,
   "metadata": {},
   "outputs": [],
   "source": [
    "p_c,p_word_mat=fit(vocab_list,train_X,train_y)"
   ]
  },
  {
   "cell_type": "code",
   "execution_count": 178,
   "metadata": {},
   "outputs": [
    {
     "data": {
      "text/plain": [
       "1"
      ]
     },
     "execution_count": 178,
     "metadata": {},
     "output_type": "execute_result"
    }
   ],
   "source": [
    "_predict(vocab_list,p_c,p_word_mat,word_X[0])"
   ]
  },
  {
   "cell_type": "code",
   "execution_count": null,
   "metadata": {},
   "outputs": [],
   "source": []
  },
  {
   "cell_type": "code",
   "execution_count": 147,
   "metadata": {},
   "outputs": [
    {
     "data": {
      "text/plain": [
       "array([], shape=(5574, 0), dtype=float64)"
      ]
     },
     "execution_count": 147,
     "metadata": {},
     "output_type": "execute_result"
    }
   ],
   "source": [
    "res"
   ]
  },
  {
   "cell_type": "code",
   "execution_count": 159,
   "metadata": {},
   "outputs": [
    {
     "data": {
      "text/plain": [
       "(1, 17)"
      ]
     },
     "execution_count": 159,
     "metadata": {},
     "output_type": "execute_result"
    }
   ],
   "source": [
    "np.array([re.split(r' \\W*',X[40])]).shape"
   ]
  },
  {
   "cell_type": "markdown",
   "metadata": {},
   "source": [
    "## NaiveBayes"
   ]
  },
  {
   "cell_type": "code",
   "execution_count": 8,
   "metadata": {},
   "outputs": [],
   "source": [
    "from naive_bayes import NaiveBayesClassifier\n",
    "from model_selection import train_test_split\n",
    "\n",
    "nbc = NaiveBayesClassifier()"
   ]
  },
  {
   "cell_type": "code",
   "execution_count": 9,
   "metadata": {},
   "outputs": [],
   "source": [
    "X,y  = read_data()\n",
    "\n",
    "X = text_parser(X)\n",
    "y[y =='spam']=1\n",
    "y[y=='ham']=0\n",
    "y = np.array(y,dtype=np.int)"
   ]
  },
  {
   "cell_type": "code",
   "execution_count": 10,
   "metadata": {},
   "outputs": [
    {
     "data": {
      "text/plain": [
       "0.1340150699677072"
      ]
     },
     "execution_count": 10,
     "metadata": {},
     "output_type": "execute_result"
    }
   ],
   "source": [
    "y.sum()/len(y)"
   ]
  },
  {
   "cell_type": "code",
   "execution_count": 23,
   "metadata": {},
   "outputs": [],
   "source": [
    "X_train,X_test,y_train,y_test = train_test_split(X,y,test_ratio=0.3,seed=None)"
   ]
  },
  {
   "cell_type": "code",
   "execution_count": 24,
   "metadata": {},
   "outputs": [],
   "source": [
    "nbc.fit(X_train,y_train)"
   ]
  },
  {
   "cell_type": "code",
   "execution_count": 25,
   "metadata": {},
   "outputs": [],
   "source": [
    "predictions = nbc.predict(X_test)"
   ]
  },
  {
   "cell_type": "code",
   "execution_count": 14,
   "metadata": {},
   "outputs": [
    {
     "data": {
      "text/plain": [
       "array([0, 0, 1, ..., 1, 0, 1])"
      ]
     },
     "execution_count": 14,
     "metadata": {},
     "output_type": "execute_result"
    }
   ],
   "source": [
    "predictions"
   ]
  },
  {
   "cell_type": "code",
   "execution_count": 27,
   "metadata": {},
   "outputs": [],
   "source": [
    "from metric import confusion_matrix,recall_score,precision_score,accuracy_score"
   ]
  },
  {
   "cell_type": "code",
   "execution_count": 26,
   "metadata": {},
   "outputs": [
    {
     "data": {
      "text/plain": [
       "0.4094076655052265"
      ]
     },
     "execution_count": 26,
     "metadata": {},
     "output_type": "execute_result"
    }
   ],
   "source": [
    "precision_score(y_test,predictions)"
   ]
  },
  {
   "cell_type": "code",
   "execution_count": 28,
   "metadata": {},
   "outputs": [
    {
     "data": {
      "text/plain": [
       "0.7954545454545454"
      ]
     },
     "execution_count": 28,
     "metadata": {},
     "output_type": "execute_result"
    }
   ],
   "source": [
    "accuracy_score(y_test,predictions)"
   ]
  },
  {
   "cell_type": "code",
   "execution_count": 29,
   "metadata": {},
   "outputs": [],
   "source": [
    "from collections import Counter"
   ]
  },
  {
   "cell_type": "code",
   "execution_count": 34,
   "metadata": {},
   "outputs": [],
   "source": [
    "y_rand = np.random.randint(0,2,len(y_test))"
   ]
  },
  {
   "cell_type": "code",
   "execution_count": 36,
   "metadata": {},
   "outputs": [
    {
     "data": {
      "text/plain": [
       "0.12835472578763127"
      ]
     },
     "execution_count": 36,
     "metadata": {},
     "output_type": "execute_result"
    }
   ],
   "source": []
  }
 ],
 "metadata": {
  "kernelspec": {
   "display_name": "Python 3",
   "language": "python",
   "name": "python3"
  },
  "language_info": {
   "codemirror_mode": {
    "name": "ipython",
    "version": 3
   },
   "file_extension": ".py",
   "mimetype": "text/x-python",
   "name": "python",
   "nbconvert_exporter": "python",
   "pygments_lexer": "ipython3",
   "version": "3.7.6"
  }
 },
 "nbformat": 4,
 "nbformat_minor": 4
}
