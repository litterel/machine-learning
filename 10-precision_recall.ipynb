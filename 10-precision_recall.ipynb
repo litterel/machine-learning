{
 "cells": [
  {
   "cell_type": "code",
   "execution_count": 1,
   "metadata": {},
   "outputs": [],
   "source": [
    "import numpy as np\n",
    "import matplotlib.pyplot as plt\n",
    "\n",
    "from model_selection import train_test_split\n",
    "from logistic_regression import LogisticRegressor\n",
    "\n",
    "from sklearn.datasets import load_digits"
   ]
  },
  {
   "cell_type": "code",
   "execution_count": 2,
   "metadata": {},
   "outputs": [],
   "source": [
    "digits = load_digits()\n",
    "X = digits.data\n",
    "y = digits.target.copy()\n",
    "\n",
    "y[digits.target==9]=1\n",
    "y[digits.target!=9]=0\n",
    "\n",
    "\n",
    "X_train,X_test,y_train,y_test = train_test_split(X,y,seed=666)"
   ]
  },
  {
   "cell_type": "code",
   "execution_count": 3,
   "metadata": {},
   "outputs": [],
   "source": [
    "lr = LogisticRegressor()\n",
    "\n",
    "lr.fit(X_train,y_train)"
   ]
  },
  {
   "cell_type": "code",
   "execution_count": 4,
   "metadata": {},
   "outputs": [
    {
     "data": {
      "text/plain": [
       "0.9777158774373259"
      ]
     },
     "execution_count": 4,
     "metadata": {},
     "output_type": "execute_result"
    }
   ],
   "source": [
    "lr.score(X_test,y_test)"
   ]
  },
  {
   "cell_type": "code",
   "execution_count": 5,
   "metadata": {},
   "outputs": [],
   "source": [
    "y_log_pred = lr.predict(X_test)"
   ]
  },
  {
   "cell_type": "code",
   "execution_count": 39,
   "metadata": {},
   "outputs": [
    {
     "data": {
      "text/plain": [
       "320"
      ]
     },
     "execution_count": 39,
     "metadata": {},
     "output_type": "execute_result"
    }
   ],
   "source": [
    "np.sum((y_log_pred==0)&(y_test==0))"
   ]
  },
  {
   "cell_type": "code",
   "execution_count": 49,
   "metadata": {
    "jupyter": {
     "source_hidden": true
    }
   },
   "outputs": [],
   "source": [
    "def TN(y_true,y_predict):\n",
    "    assert len(y_true)==len(y_predict)\n",
    "    return np.sum((y_true == 0)&(y_predict==0))\n",
    "\n",
    "def FP(y_true,y_predict):\n",
    "    assert len(y_true)==len(y_predict)\n",
    "    return np.sum((y_true == 0)&(y_predict==1))\n",
    "\n",
    "def TP(y_true,y_predict):\n",
    "    assert len(y_true)==len(y_predict)\n",
    "    return np.sum((y_true == 1)& (y_predict==1))\n",
    "\n",
    "def FN(y_true,y_predict):\n",
    "    assert len(y_true)==len(y_predict)\n",
    "    return np.sum((y_true == 1)&(y_predict == 0))\n",
    "\n",
    "def confusion_mat(y_true,y_predict):\n",
    "    return np.array([\n",
    "        [TN(y_true,y_predict),FP(y_true,y_predict)],\n",
    "        [FN(y_true,y_predict),TP(y_true,y_predict)]\n",
    "    ])\n",
    "\n",
    "def precision(y_true,y_predict):\n",
    "    tp = TP(y_true,y_predict)\n",
    "    fp = FP(y_true,y_predict)\n",
    "    try:\n",
    "        return tp/(tp+fp)\n",
    "    except:\n",
    "        return 0.0\n",
    "\n",
    "def recall(y_true,y_predict):\n",
    "    fn = FN(y_true,y_predict)\n",
    "    tp = TP(y_true,y_predict)\n",
    "    return tp/(fn+tp)\n",
    "    "
   ]
  },
  {
   "cell_type": "code",
   "execution_count": 6,
   "metadata": {},
   "outputs": [],
   "source": [
    "from metric import *"
   ]
  },
  {
   "cell_type": "code",
   "execution_count": 11,
   "metadata": {},
   "outputs": [
    {
     "data": {
      "text/plain": [
       "array([[320,   3],\n",
       "       [  5,  31]])"
      ]
     },
     "execution_count": 11,
     "metadata": {},
     "output_type": "execute_result"
    }
   ],
   "source": [
    "confusion_matrix(y_test,y_log_pred)"
   ]
  },
  {
   "cell_type": "code",
   "execution_count": 12,
   "metadata": {},
   "outputs": [
    {
     "data": {
      "text/plain": [
       "0.9117647058823529"
      ]
     },
     "execution_count": 12,
     "metadata": {},
     "output_type": "execute_result"
    }
   ],
   "source": [
    "precision_score(y_test,y_log_pred)"
   ]
  },
  {
   "cell_type": "code",
   "execution_count": 13,
   "metadata": {},
   "outputs": [
    {
     "data": {
      "text/plain": [
       "0.8611111111111112"
      ]
     },
     "execution_count": 13,
     "metadata": {},
     "output_type": "execute_result"
    }
   ],
   "source": [
    "recall_score(y_test,y_log_pred)"
   ]
  },
  {
   "cell_type": "code",
   "execution_count": 7,
   "metadata": {},
   "outputs": [
    {
     "name": "stdout",
     "output_type": "stream",
     "text": [
      "Variable            Type                 Data/Info\n",
      "--------------------------------------------------\n",
      "LogisticRegressor   type                 <class 'logistic_regression.LogisticRegressor'>\n",
      "MSE_error           function             <function MSE_error at 0x118b55d40>\n",
      "NamespaceMagics     MetaHasTraits        <class 'IPython.core.magi<...>mespace.NamespaceMagics'>\n",
      "X                   ndarray              1797x64: 115008 elems, type `float64`, 920064 bytes (898.5 kb)\n",
      "X_test              ndarray              359x64: 22976 elems, type `float64`, 183808 bytes (179.5 kb)\n",
      "X_train             ndarray              1438x64: 92032 elems, type `float64`, 736256 bytes (719.0 kb)\n",
      "accuracy_score      function             <function accuracy_score at 0x118b55dd0>\n",
      "confusion_matrix    function             <function confusion_matrix at 0x118b61560>\n",
      "digits              Bunch                {'data': array([[ 0.,  0.<...> Algorithm. NIPS. 2000.\"}\n",
      "f1_score            function             <function f1_score at 0x118b615f0>\n",
      "get_ipython         function             <function get_ipython at 0x10cec4710>\n",
      "ipywidgets          module               <module 'ipywidgets' from<...>/ipywidgets/__init__.py'>\n",
      "json                module               <module 'json' from '/usr<...>hon3.7/json/__init__.py'>\n",
      "load_digits         function             <function load_digits at 0x11ffd4950>\n",
      "lr                  LogisticRegressor    <logistic_regression.Logi<...>or object at 0x121117a10>\n",
      "np                  module               <module 'numpy' from '/us<...>kages/numpy/__init__.py'>\n",
      "pd                  module               <module 'pandas' from '/u<...>ages/pandas/__init__.py'>\n",
      "plt                 module               <module 'matplotlib.pyplo<...>es/matplotlib/pyplot.py'>\n",
      "precision_score     function             <function precision_score at 0x118b61440>\n",
      "pyspark             NoneType             None\n",
      "r2_score            function             <function r2_score at 0x118b613b0>\n",
      "recall_score        function             <function recall_score at 0x118b614d0>\n",
      "sys                 module               <module 'sys' (built-in)>\n",
      "tf                  NoneType             None\n",
      "train_test_split    function             <function train_test_split at 0x118b553b0>\n",
      "y                   ndarray              1797: 1797 elems, type `int64`, 14376 bytes\n",
      "y_log_pred          ndarray              359: 359 elems, type `int64`, 2872 bytes\n",
      "y_test              ndarray              359: 359 elems, type `int64`, 2872 bytes\n",
      "y_train             ndarray              1438: 1438 elems, type `int64`, 11504 bytes\n"
     ]
    }
   ],
   "source": [
    "whos"
   ]
  },
  {
   "cell_type": "code",
   "execution_count": 8,
   "metadata": {},
   "outputs": [
    {
     "data": {
      "text/plain": [
       "0.8857142857142858"
      ]
     },
     "execution_count": 8,
     "metadata": {},
     "output_type": "execute_result"
    }
   ],
   "source": [
    "f1_score(y_test,y_log_pred)"
   ]
  }
 ],
 "metadata": {
  "kernelspec": {
   "display_name": "Python 3",
   "language": "python",
   "name": "python3"
  },
  "language_info": {
   "codemirror_mode": {
    "name": "ipython",
    "version": 3
   },
   "file_extension": ".py",
   "mimetype": "text/x-python",
   "name": "python",
   "nbconvert_exporter": "python",
   "pygments_lexer": "ipython3",
   "version": "3.7.6"
  }
 },
 "nbformat": 4,
 "nbformat_minor": 4
}
