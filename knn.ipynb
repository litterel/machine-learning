{
 "cells": [
  {
   "cell_type": "markdown",
   "metadata": {},
   "source": [
    "## load data"
   ]
  },
  {
   "cell_type": "code",
   "execution_count": 1,
   "metadata": {},
   "outputs": [
    {
     "name": "stdout",
     "output_type": "stream",
     "text": [
      "Using matplotlib backend: Qt5Agg\n",
      "Populating the interactive namespace from numpy and matplotlib\n"
     ]
    }
   ],
   "source": [
    "pylab"
   ]
  },
  {
   "cell_type": "code",
   "execution_count": 27,
   "metadata": {},
   "outputs": [],
   "source": [
    "from collections import Counter\n",
    "from sklearn.preprocessing import StandardScaler\n",
    "from sklearn.datasets import load_breast_cancer"
   ]
  },
  {
   "cell_type": "code",
   "execution_count": 3,
   "metadata": {},
   "outputs": [],
   "source": [
    "from sklearn.datasets import load_breast_cancer\n",
    "\n",
    "data = load_breast_cancer()\n",
    "\n",
    "datas = data['data']\n",
    "targets = data['target']\n",
    "\n"
   ]
  },
  {
   "cell_type": "code",
   "execution_count": 4,
   "metadata": {},
   "outputs": [
    {
     "data": {
      "text/plain": [
       "(569, 30)"
      ]
     },
     "execution_count": 4,
     "metadata": {},
     "output_type": "execute_result"
    }
   ],
   "source": [
    "datas.shape"
   ]
  },
  {
   "cell_type": "markdown",
   "metadata": {},
   "source": [
    "## test my_knn"
   ]
  },
  {
   "cell_type": "code",
   "execution_count": 5,
   "metadata": {},
   "outputs": [],
   "source": [
    "%run knn.py\n",
    "from model_selection import train_test_split\n",
    "from metrics import accuracy_score"
   ]
  },
  {
   "cell_type": "code",
   "execution_count": 6,
   "metadata": {},
   "outputs": [],
   "source": [
    "counts = datas.shape[0]\n",
    "loops = 20\n",
    "test_ratio = 0.2"
   ]
  },
  {
   "cell_type": "code",
   "execution_count": 8,
   "metadata": {},
   "outputs": [
    {
     "name": "stdout",
     "output_type": "stream",
     "text": [
      "average accuracy of knn:  0.9203539823008849\n"
     ]
    }
   ],
   "source": [
    "my_knn = KNNclassifier(5,weights='uniform')\n",
    "results = []\n",
    "for _ in np.arange(loops):\n",
    "    \n",
    "    train_x ,test_x,train_y,test_y = train_test_split(datas,targets,test_ratio=test_ratio,seed=66)\n",
    "    \n",
    "    \n",
    "    my_knn.fit(train_x,train_y)\n",
    "    #predictions = my_knn.predict(test_x)\n",
    "\n",
    "    #accuracy = accuracy_score(test_y,predictions)\n",
    "    accuracy = my_knn.score(test_x,test_y)\n",
    "    results.append(accuracy)\n",
    "\n",
    "print('average accuracy of knn: ', np.mean(results))"
   ]
  },
  {
   "cell_type": "markdown",
   "metadata": {},
   "source": [
    "## sklearn "
   ]
  },
  {
   "cell_type": "code",
   "execution_count": 175,
   "metadata": {},
   "outputs": [],
   "source": [
    "from sklearn.neighbors import KNeighborsClassifier\n",
    "from sklearn.model_selection import GridSearchCV"
   ]
  },
  {
   "cell_type": "code",
   "execution_count": 176,
   "metadata": {},
   "outputs": [],
   "source": [
    "knn_classifier = KNeighborsClassifier()"
   ]
  },
  {
   "cell_type": "code",
   "execution_count": 179,
   "metadata": {},
   "outputs": [],
   "source": [
    "params = [{'weights':['uniform'],'n_neighbors':[i for i in np.arange(3,11)]},{'weights':['distance'],'n_neighbors':[i for i in np.arange(3,11)],'p':[i for i in np.arange(1,5)]}]"
   ]
  },
  {
   "cell_type": "code",
   "execution_count": 192,
   "metadata": {},
   "outputs": [],
   "source": [
    "\n",
    "grid_search = GridSearchCV(knn_classifier,params,n_jobs=-1,verbose=4)"
   ]
  },
  {
   "cell_type": "code",
   "execution_count": 193,
   "metadata": {},
   "outputs": [
    {
     "name": "stderr",
     "output_type": "stream",
     "text": [
      "/usr/local/lib/python3.7/site-packages/sklearn/model_selection/_split.py:1943: FutureWarning: You should specify a value for 'cv' instead of relying on the default value. The default value will change from 3 to 5 in version 0.22.\n",
      "  warnings.warn(CV_WARNING, FutureWarning)\n",
      "[Parallel(n_jobs=-1)]: Using backend LokyBackend with 4 concurrent workers.\n"
     ]
    },
    {
     "name": "stdout",
     "output_type": "stream",
     "text": [
      "Fitting 3 folds for each of 40 candidates, totalling 120 fits\n"
     ]
    },
    {
     "name": "stderr",
     "output_type": "stream",
     "text": [
      "[Parallel(n_jobs=-1)]: Done  17 tasks      | elapsed:    2.3s\n",
      "[Parallel(n_jobs=-1)]: Done  90 tasks      | elapsed:   33.0s\n"
     ]
    },
    {
     "name": "stdout",
     "output_type": "stream",
     "text": [
      "CPU times: user 360 ms, sys: 41.8 ms, total: 402 ms\n",
      "Wall time: 49.2 s\n"
     ]
    },
    {
     "name": "stderr",
     "output_type": "stream",
     "text": [
      "[Parallel(n_jobs=-1)]: Done 120 out of 120 | elapsed:   49.2s finished\n"
     ]
    },
    {
     "data": {
      "text/plain": [
       "GridSearchCV(cv='warn', error_score='raise-deprecating',\n",
       "       estimator=KNeighborsClassifier(algorithm='auto', leaf_size=30, metric='minkowski',\n",
       "           metric_params=None, n_jobs=None, n_neighbors=5, p=2,\n",
       "           weights='uniform'),\n",
       "       fit_params=None, iid='warn', n_jobs=-1,\n",
       "       param_grid=[{'weights': ['uniform'], 'n_neighbors': [3, 4, 5, 6, 7, 8, 9, 10]}, {'weights': ['distance'], 'n_neighbors': [3, 4, 5, 6, 7, 8, 9, 10], 'p': [1, 2, 3, 4]}],\n",
       "       pre_dispatch='2*n_jobs', refit=True, return_train_score='warn',\n",
       "       scoring=None, verbose=4)"
      ]
     },
     "execution_count": 193,
     "metadata": {},
     "output_type": "execute_result"
    }
   ],
   "source": [
    "%%time \n",
    "grid_search.fit(datas,targets)"
   ]
  },
  {
   "cell_type": "code",
   "execution_count": 187,
   "metadata": {},
   "outputs": [
    {
     "data": {
      "text/plain": [
       "0.9944289693593314"
      ]
     },
     "execution_count": 187,
     "metadata": {},
     "output_type": "execute_result"
    }
   ],
   "source": [
    "grid_search.best_estimator_.score(test_x,test_y)"
   ]
  },
  {
   "cell_type": "markdown",
   "metadata": {},
   "source": [
    "## 归一化"
   ]
  },
  {
   "cell_type": "code",
   "execution_count": null,
   "metadata": {},
   "outputs": [],
   "source": []
  },
  {
   "cell_type": "code",
   "execution_count": 24,
   "metadata": {},
   "outputs": [],
   "source": [
    "%matplotlib inline"
   ]
  },
  {
   "cell_type": "code",
   "execution_count": 17,
   "metadata": {},
   "outputs": [],
   "source": [
    "x = np.random.rand(50,2)"
   ]
  },
  {
   "cell_type": "code",
   "execution_count": 25,
   "metadata": {},
   "outputs": [
    {
     "data": {
      "text/plain": [
       "<matplotlib.collections.PathCollection at 0x123bd6690>"
      ]
     },
     "execution_count": 25,
     "metadata": {},
     "output_type": "execute_result"
    },
    {
     "data": {
      "image/png": "[encoded data removed]",
      "text/plain": [
       "<Figure size 432x288 with 1 Axes>"
      ]
     },
     "metadata": {
      "needs_background": "light"
     },
     "output_type": "display_data"
    }
   ],
   "source": [
    "plt.scatter(x[:,0],x[:,1])"
   ]
  },
  {
   "cell_type": "code",
   "execution_count": 21,
   "metadata": {},
   "outputs": [],
   "source": [
    "x[:,1]=x[:,1]-x[:,1].mean()/x[:,1].std()"
   ]
  },
  {
   "cell_type": "code",
   "execution_count": 23,
   "metadata": {},
   "outputs": [
    {
     "data": {
      "text/plain": [
       "<matplotlib.collections.PathCollection at 0x120501d90>"
      ]
     },
     "execution_count": 23,
     "metadata": {},
     "output_type": "execute_result"
    }
   ],
   "source": [
    "plt.scatter(x[:,0],x[:,1])"
   ]
  },
  {
   "cell_type": "code",
   "execution_count": 31,
   "metadata": {},
   "outputs": [
    {
     "data": {
      "text/plain": [
       "array([[-1.62069802, -1.022869  ],\n",
       "       [-1.63774375, -1.48704419],\n",
       "       [-1.25865319, -1.34630431],\n",
       "       [-0.99785538, -1.45182764],\n",
       "       [-0.70956504, -1.28619691],\n",
       "       [-0.95507774, -1.47352074],\n",
       "       [-1.19361498, -0.74043727],\n",
       "       [-1.41329544, -1.20193431],\n",
       "       [-0.67454552, -1.27312761],\n",
       "       [-1.02938764, -0.86123433],\n",
       "       [-0.67778369, -1.70321348],\n",
       "       [-1.48284607, -1.48924692],\n",
       "       [-0.80903332, -0.73104754],\n",
       "       [-1.34472415, -1.1624017 ],\n",
       "       [-0.68238167, -1.08120898],\n",
       "       [-0.74979785, -1.48052014],\n",
       "       [-0.66714302, -1.046418  ],\n",
       "       [-0.74085462, -1.29624687],\n",
       "       [-1.05530159, -0.84727259],\n",
       "       [-1.56083373, -1.30056204],\n",
       "       [-1.16469094, -0.98126289],\n",
       "       [-1.56162092, -1.4339366 ],\n",
       "       [-1.14316381, -1.30830381],\n",
       "       [-0.82588839, -0.95909995],\n",
       "       [-1.06594818, -1.29143854],\n",
       "       [-0.82013905, -1.68799053],\n",
       "       [-0.97158724, -1.70887618],\n",
       "       [-1.12341041, -1.35853801],\n",
       "       [-1.41719118, -1.47933459],\n",
       "       [-1.63158296, -0.7674584 ],\n",
       "       [-0.85687957, -1.14524702],\n",
       "       [-1.42969961, -1.20990658],\n",
       "       [-0.94577792, -1.45476001],\n",
       "       [-0.99362261, -1.50793693],\n",
       "       [-0.82934987, -1.14008625],\n",
       "       [-0.79025972, -1.51836313],\n",
       "       [-1.19177711, -0.78294305],\n",
       "       [-0.83514826, -1.12889024],\n",
       "       [-1.50608678, -0.73365196],\n",
       "       [-1.07333535, -1.619091  ],\n",
       "       [-1.55312618, -0.93879269],\n",
       "       [-1.55146094, -1.26947573],\n",
       "       [-1.41978847, -0.74504824],\n",
       "       [-0.98832741, -1.48448635],\n",
       "       [-0.68237275, -1.53205762],\n",
       "       [-1.47359268, -0.7607389 ],\n",
       "       [-0.64992845, -1.15461865],\n",
       "       [-1.48950774, -1.07510897],\n",
       "       [-1.46345946, -1.64925758],\n",
       "       [-1.25211707, -1.35458698]])"
      ]
     },
     "execution_count": 31,
     "metadata": {},
     "output_type": "execute_result"
    }
   ],
   "source": [
    "x"
   ]
  },
  {
   "cell_type": "code",
   "execution_count": null,
   "metadata": {},
   "outputs": [],
   "source": []
  },
  {
   "cell_type": "code",
   "execution_count": 13,
   "metadata": {},
   "outputs": [
    {
     "data": {
      "text/plain": [
       "array([-1.35191191, -1.28307729, -0.42264456,  1.36705552, -1.48958115,\n",
       "       -0.28497532, -0.97332151,  0.26570163,  0.57545741,  1.2638036 ,\n",
       "        1.40147283,  1.33263822,  0.12803239, -0.49147918,  1.29822091,\n",
       "       -1.55841576,  0.74754396,  0.26570163,  0.5410401 , -0.45706187,\n",
       "       -0.31939263, -0.00963685, -1.14540805,  1.19496898,  0.19686701,\n",
       "       -0.73240034, -0.07847147, -1.62725038,  0.05919777,  1.53914207,\n",
       "        0.5410401 , -0.97332151,  0.9196305 , -1.83375424,  0.36895356,\n",
       "       -1.28307729, -1.04215613, -1.79933693,  1.16055167,  1.22938629,\n",
       "        1.09171705,  0.74754396, -0.87006958, -0.49147918,  0.57545741,\n",
       "        1.36705552,  0.47220548,  0.9196305 ,  0.88521319, -1.14540805,\n",
       "       -1.76491962, -0.52589649,  1.40147283, -0.07847147,  0.78196127,\n",
       "        1.16055167, -1.07657343,  1.57355938, -0.80123496, -0.18172339,\n",
       "       -1.04215613, -1.14540805, -1.59283307, -0.5947311 ,  0.85079589,\n",
       "       -0.9389042 , -0.31939263, -0.5603138 ,  0.78196127, -1.24865998,\n",
       "        1.16055167,  1.50472476,  1.09171705,  0.50662279,  1.53914207,\n",
       "       -0.14730608,  1.50472476,  1.29822091,  0.02478046, -1.17982536,\n",
       "        0.02478046, -0.76681765, -1.21424267, -1.38632922, -0.11288877,\n",
       "       -0.35380994,  0.12803239, -1.07657343,  1.33263822,  0.12803239,\n",
       "        0.71312665,  0.88521319,  0.02478046, -0.07847147,  0.5410401 ,\n",
       "       -0.69798303,  0.81637858,  1.12613436, -1.59283307, -1.21424267])"
      ]
     },
     "execution_count": 13,
     "metadata": {},
     "output_type": "execute_result"
    }
   ],
   "source": [
    "(x-x.mean())/x.std()"
   ]
  }
 ],
 "metadata": {
  "kernelspec": {
   "display_name": "Python 3",
   "language": "python",
   "name": "python3"
  },
  "language_info": {
   "codemirror_mode": {
    "name": "ipython",
    "version": 3
   },
   "file_extension": ".py",
   "mimetype": "text/x-python",
   "name": "python",
   "nbconvert_exporter": "python",
   "pygments_lexer": "ipython3",
   "version": "3.7.6"
  }
 },
 "nbformat": 4,
 "nbformat_minor": 4
}
