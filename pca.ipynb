{
 "cells": [
  {
   "cell_type": "markdown",
   "metadata": {},
   "source": [
    "## load data"
   ]
  },
  {
   "cell_type": "code",
   "execution_count": 2,
   "metadata": {},
   "outputs": [],
   "source": [
    "from collections import Counter\n",
    "from sklearn.preprocessing import StandardScaler\n",
    "from sklearn.datasets import california_housing"
   ]
  },
  {
   "cell_type": "code",
   "execution_count": 1,
   "metadata": {},
   "outputs": [],
   "source": [
    "from sklearn.datasets import load_boston\n",
    "from sklearn.datasets import load_digits\n",
    "data = load_boston()\n",
    "#data = load_digits()\n",
    "datas = data['data']\n",
    "targets = data['target']"
   ]
  },
  {
   "cell_type": "markdown",
   "metadata": {},
   "source": [
    "## test pca"
   ]
  },
  {
   "cell_type": "code",
   "execution_count": 2,
   "metadata": {},
   "outputs": [],
   "source": [
    "import numpy as np\n",
    "import matplotlib.pyplot as plt\n",
    "%matplotlib inline"
   ]
  },
  {
   "cell_type": "code",
   "execution_count": 94,
   "metadata": {},
   "outputs": [],
   "source": [
    "## PCA"
   ]
  },
  {
   "cell_type": "code",
   "execution_count": 250,
   "metadata": {},
   "outputs": [],
   "source": [
    "def demean(X:np.ndarray):\n",
    "    return X - X.mean(axis=0)\n",
    "    \n",
    "\n",
    "def normalize(w:np.ndarray):\n",
    "    return w/np.linalg.norm(w)\n",
    "\n",
    "def f(w:np.ndarray,X:np.ndarray):\n",
    "    return np.sum((X.dot(w))**2)/len(X)\n",
    "    \n",
    "\n",
    "def df(w:np.ndarray,X:np.ndarray):\n",
    "    return X.T.dot(X.dot(w))*2 /len(X)\n",
    "\n",
    "def component(w:np.ndarray,X:np.ndarray,max_iter= 20,epsilon = 1e-8,eta=0.01):\n",
    "    m = len(X)\n",
    "    w = np.ones(X.shape[1])\n",
    "    for iter in np.arange(max_iter):\n",
    "        random_inx = np.random.permutation(m)\n",
    "        for i in np.arange(m):\n",
    "            learning_rate = 5/(10+iter)\n",
    "            last_f = f(w,X)\n",
    "            gradient = df(w,X)\n",
    "            w = w + learning_rate*gradient\n",
    "            w = normalize(w)\n",
    "    return w\n",
    "    '''\n",
    "    # 使用批量梯度下降法每次会得到不同的结果。。。\n",
    "    w = normalize(w)\n",
    "    for iter in np.arange(max_iter):\n",
    "        learning_rate = 10/(50+iter)\n",
    "        last_f = f(w,X)\n",
    "        gradient = df(w,X)\n",
    "        w = w + learning_rate*gradient\n",
    "        w = normalize(w)\n",
    "        if np.abs(last_f-f(w,X))<epsilon:\n",
    "            break\n",
    "        return w\n",
    "    '''\n",
    "    \n",
    "def my_pca(X:np.ndarray,n = X.shape[1]):\n",
    "    assert X.ndim ==2 ,\"X must be 2 dimensional\"\n",
    "    assert n<=X.shape[1],\"numbers of featured direction must be no more than features of X.\"\n",
    "    X_p = demean(X.copy())\n",
    "    W=[]\n",
    "    res = []\n",
    "    for i in np.arange(n):\n",
    "        w = np.ones(X.shape[1])\n",
    "        w = component(w,X_p)\n",
    "        W.append(w)\n",
    "        x_component = X_p.dot(w)\n",
    "        res.append(x_component)\n",
    "        X_p = demean(X_p - x_component.reshape(-1,1)*w)\n",
    "    return np.array(res).reshape((-1,n)),np.array(W)"
   ]
  },
  {
   "cell_type": "code",
   "execution_count": 251,
   "metadata": {},
   "outputs": [
    {
     "data": {
      "text/plain": [
       "<matplotlib.collections.PathCollection at 0x11f0e8390>"
      ]
     },
     "execution_count": 251,
     "metadata": {},
     "output_type": "execute_result"
    },
    {
     "data": {
      "image/png": "[encoded data removed]",
      "text/plain": [
       "<Figure size 432x288 with 1 Axes>"
      ]
     },
     "metadata": {
      "needs_background": "light"
     },
     "output_type": "display_data"
    }
   ],
   "source": [
    "X = np.empty((100,2))\n",
    "X[:,0]=np.random.uniform(0,100,size=100)\n",
    "X[:,1]=0.75*X[:,0]+3+np.random.normal(0,10,size=100)*2\n",
    "\n",
    "plt.scatter(X[:,0],X[:,1])"
   ]
  },
  {
   "cell_type": "code",
   "execution_count": 236,
   "metadata": {},
   "outputs": [
    {
     "data": {
      "text/plain": [
       "0.8221250909333959"
      ]
     },
     "execution_count": 236,
     "metadata": {},
     "output_type": "execute_result"
    }
   ],
   "source": [
    "np.linalg.norm(w)"
   ]
  },
  {
   "cell_type": "code",
   "execution_count": 252,
   "metadata": {},
   "outputs": [
    {
     "name": "stdout",
     "output_type": "stream",
     "text": [
      "[0.69031667 0.72350736]\n",
      "0.9999999999999999\n"
     ]
    },
    {
     "data": {
      "text/plain": [
       "(-50.0, 50.0)"
      ]
     },
     "execution_count": 252,
     "metadata": {},
     "output_type": "execute_result"
    },
    {
     "data": {
      "image/png": "[encoded data removed]",
      "text/plain": [
       "<Figure size 432x288 with 1 Axes>"
      ]
     },
     "metadata": {
      "needs_background": "light"
     },
     "output_type": "display_data"
    }
   ],
   "source": [
    "\n",
    "X = demean(X)\n",
    "w = np.random.rand(X.shape[1])\n",
    "\n",
    "w = component(w,X)\n",
    "X_p = X.dot(w).reshape((-1,1))*w\n",
    "# X_p =np.c_[X.dot(w)*w[0],X.dot(w)*w[1]]\n",
    "print(w)\n",
    "print(np.linalg.norm(w))\n",
    "plt.scatter(X[:,0],X[:,1])\n",
    "plt.plot(X_p[:,0],X_p[:,1],'r-')\n",
    "plt.plot(X[:,0]-X_p[:,0],X[:,1]-X_p[:,1],'ko')\n",
    "plt.xlim([-50,50])\n",
    "plt.ylim([-50,50])"
   ]
  },
  {
   "cell_type": "code",
   "execution_count": 255,
   "metadata": {},
   "outputs": [
    {
     "ename": "TypeError",
     "evalue": "'PCA' object is not callable",
     "output_type": "error",
     "traceback": [
      "\u001b[0;31m---------------------------------------------------------------------------\u001b[0m",
      "\u001b[0;31mTypeError\u001b[0m                                 Traceback (most recent call last)",
      "\u001b[0;32m<ipython-input-255-fc6b9ac4fb7d>\u001b[0m in \u001b[0;36m<module>\u001b[0;34m\u001b[0m\n\u001b[0;32m----> 1\u001b[0;31m \u001b[0mX_p\u001b[0m \u001b[0;34m,\u001b[0m\u001b[0mw\u001b[0m \u001b[0;34m=\u001b[0m \u001b[0mpca\u001b[0m\u001b[0;34m(\u001b[0m\u001b[0mX\u001b[0m\u001b[0;34m,\u001b[0m\u001b[0;36m2\u001b[0m\u001b[0;34m)\u001b[0m\u001b[0;34m\u001b[0m\u001b[0;34m\u001b[0m\u001b[0m\n\u001b[0m\u001b[1;32m      2\u001b[0m \u001b[0mprint\u001b[0m\u001b[0;34m(\u001b[0m\u001b[0mw\u001b[0m\u001b[0;34m)\u001b[0m\u001b[0;34m\u001b[0m\u001b[0;34m\u001b[0m\u001b[0m\n",
      "\u001b[0;31mTypeError\u001b[0m: 'PCA' object is not callable"
     ]
    }
   ],
   "source": [
    "X_p ,w = pca(X,2)\n",
    "print(w)"
   ]
  },
  {
   "cell_type": "code",
   "execution_count": 103,
   "metadata": {},
   "outputs": [
    {
     "data": {
      "text/plain": [
       "(-50.0, 50.0)"
      ]
     },
     "execution_count": 103,
     "metadata": {},
     "output_type": "execute_result"
    },
    {
     "data": {
      "image/png": "[encoded data removed]",
      "text/plain": [
       "<Figure size 432x288 with 1 Axes>"
      ]
     },
     "metadata": {
      "needs_background": "light"
     },
     "output_type": "display_data"
    }
   ],
   "source": [
    "plt.scatter(X[:,0],X[:,1])\n",
    "plt.plot(X_p[:,0],X_p[:,1],'r-')\n",
    "plt.plot(X[:,0]-X_p[:,0],X[:,1]-X_p[:,1],'ko')\n",
    "plt.xlim([-50,50])\n",
    "plt.ylim([-50,50])"
   ]
  },
  {
   "cell_type": "markdown",
   "metadata": {},
   "source": [
    "## sklearn中的pca"
   ]
  },
  {
   "cell_type": "code",
   "execution_count": 225,
   "metadata": {},
   "outputs": [],
   "source": [
    "from sklearn.decomposition import PCA"
   ]
  },
  {
   "cell_type": "code",
   "execution_count": 253,
   "metadata": {},
   "outputs": [
    {
     "data": {
      "text/plain": [
       "PCA(copy=True, iterated_power='auto', n_components=2, random_state=None,\n",
       "  svd_solver='auto', tol=0.0, whiten=False)"
      ]
     },
     "execution_count": 253,
     "metadata": {},
     "output_type": "execute_result"
    }
   ],
   "source": [
    "pca = PCA(n_components=2)\n",
    "pca.fit(X)"
   ]
  },
  {
   "cell_type": "code",
   "execution_count": 254,
   "metadata": {},
   "outputs": [
    {
     "data": {
      "text/plain": [
       "array([[-0.69031667, -0.72350736],\n",
       "       [ 0.72350736, -0.69031667]])"
      ]
     },
     "execution_count": 254,
     "metadata": {},
     "output_type": "execute_result"
    }
   ],
   "source": [
    "pca.components_"
   ]
  },
  {
   "cell_type": "code",
   "execution_count": 229,
   "metadata": {},
   "outputs": [],
   "source": [
    "w1 = pca.components_[0]"
   ]
  },
  {
   "cell_type": "code",
   "execution_count": 230,
   "metadata": {},
   "outputs": [
    {
     "name": "stdout",
     "output_type": "stream",
     "text": [
      "[0.70927938 0.70492749]\n",
      "0.9999999999999999\n"
     ]
    },
    {
     "data": {
      "text/plain": [
       "(-50.0, 50.0)"
      ]
     },
     "execution_count": 230,
     "metadata": {},
     "output_type": "execute_result"
    },
    {
     "data": {
      "image/png": "[encoded data removed]",
      "text/plain": [
       "<Figure size 432x288 with 1 Axes>"
      ]
     },
     "metadata": {
      "needs_background": "light"
     },
     "output_type": "display_data"
    }
   ],
   "source": [
    "X_p = X.dot(w).reshape((-1,1))*w\n",
    "# X_p =np.c_[X.dot(w)*w[0],X.dot(w)*w[1]]\n",
    "print(w1)\n",
    "print(np.linalg.norm(w1))\n",
    "plt.scatter(X[:,0],X[:,1])\n",
    "plt.plot(X_p[:,0],X_p[:,1],'r-')\n",
    "plt.plot(X[:,0]-X_p[:,0],X[:,1]-X_p[:,1],'ko')\n",
    "plt.xlim([-50,50])\n",
    "plt.ylim([-50,50])"
   ]
  }
 ],
 "metadata": {
  "kernelspec": {
   "display_name": "Python 3",
   "language": "python",
   "name": "python3"
  },
  "language_info": {
   "codemirror_mode": {
    "name": "ipython",
    "version": 3
   },
   "file_extension": ".py",
   "mimetype": "text/x-python",
   "name": "python",
   "nbconvert_exporter": "python",
   "pygments_lexer": "ipython3",
   "version": "3.7.6"
  }
 },
 "nbformat": 4,
 "nbformat_minor": 4
}
